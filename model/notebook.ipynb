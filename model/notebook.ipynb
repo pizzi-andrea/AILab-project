{
 "cells": [
  {
   "cell_type": "code",
   "execution_count": null,
   "metadata": {},
   "outputs": [],
   "source": [
    "# show some images and labels\n",
    "\n",
    "# import all dependecies form get and show the images\n"
   ]
  },
  {
   "cell_type": "code",
   "execution_count": null,
   "metadata": {},
   "outputs": [],
   "source": [
    "# 1. Take in a Dataset as well as a list of class names\n",
    "import matplotlib.pyplot as plt\n",
    "def display_images(images:list):\n",
    "    \n",
    "    # 5. Setup plot\n",
    "    plt.figure(figsize=(16, 8))\n",
    "\n",
    "    # 6. Loop through samples and display random samples \n",
    "    for i, (targ_image, targ_label) in enumerate(images):\n",
    "        \n",
    "\n",
    "        # 7. Adjust image tensor shape for plotting: [color_channels, height, width] -> [color_channels, height, width]\n",
    "        targ_image_adjust = targ_image.permute(1, 2, 0)\n",
    "\n",
    "        # Plot adjusted samples\n",
    "        plt.subplot(1, len(images), i+1)\n",
    "        plt.imshow(targ_image_adjust)\n",
    "        plt.axis(\"off\")\n",
    "        if targ_label:\n",
    "            title = f\"class: {targ_label}\"\n",
    "\n",
    "        plt.title(title)\n",
    "    "
   ]
  },
  {
   "cell_type": "code",
   "execution_count": null,
   "metadata": {},
   "outputs": [],
   "source": [
    "import torch\n",
    "import torch.nn.functional as F\n",
    "\n",
    "def local_contrast_normalization(input_tensor, radius=9, epsilon=1e-4):\n",
    "    \"\"\"\n",
    "    Local Contrast Normalization (LCN) implementation in PyTorch.\n",
    "    \n",
    "    Parameters:\n",
    "    - input_tensor (torch.Tensor): Input tensor (batch_size, channels, height, width)\n",
    "    - radius (int): Radius of the local region for normalization\n",
    "    - epsilon (float): Small constant to prevent division by zero\n",
    "    \n",
    "    Returns:\n",
    "    - normalized_tensor (torch.Tensor): Normalized tensor\n",
    "    \"\"\"\n",
    "    # Ensure input tensor is in float32 for numerical stability\n",
    "    if input_tensor.dtype != torch.float32:\n",
    "        input_tensor = input_tensor.float()\n",
    "    \n",
    "    # Calculate mean and standard deviation using a local neighborhood\n",
    "    mean = F.avg_pool2d(input_tensor, kernel_size=radius, stride=1, padding=radius//2)\n",
    "    mean_squared = F.avg_pool2d(input_tensor**2, kernel_size=radius, stride=1, padding=radius//2)\n",
    "    std = torch.sqrt(mean_squared - mean**2 + epsilon)\n",
    "    \n",
    "    # Normalize the input tensor\n",
    "    normalized_tensor = (input_tensor - mean) / std\n",
    "    \n",
    "    return normalized_tensor"
   ]
  },
  {
   "cell_type": "code",
   "execution_count": null,
   "metadata": {},
   "outputs": [],
   "source": [
    "from torchvision.transforms import v2\n",
    "from torchvision.transforms import InterpolationMode\n",
    "import torch\n",
    "\n",
    "seq = v2.Compose([\n",
    "    v2.ToDtype(torch.float32, scale=True),\n",
    "    v2.Resize(48, interpolation=InterpolationMode.NEAREST_EXACT),\n",
    "    \n",
    "    #v2.RandomAutocontrast(p=1.0),\n",
    "\n",
    "    \n",
    "])"
   ]
  },
  {
   "cell_type": "code",
   "execution_count": null,
   "metadata": {},
   "outputs": [],
   "source": [
    "# get five images with it's label from datasets\n",
    "from GTSRB_Dataset import GTSRB_Dataset as Dataset\n",
    "from __global__ import *\n",
    "dataset_train = Dataset(labels_path=LABELS_PATH_TRAIN, imgs_dir=IMGS_PATH_TRAIN, transform=seq)\n",
    "dataset_test = dataset = Dataset(labels_path=LABELS_PATH_TEST, imgs_dir=IMGS_PATH_TEST, transform=seq)\n",
    "train_imgs = [dataset_train.__getitem__(index + 150) for index in range(10)]\n",
    "test_imgs =  [dataset_test.__getitem__(index) for index in range(10)]"
   ]
  },
  {
   "cell_type": "code",
   "execution_count": null,
   "metadata": {},
   "outputs": [],
   "source": [
    "display_images(train_imgs)"
   ]
  },
  {
   "cell_type": "code",
   "execution_count": null,
   "metadata": {},
   "outputs": [],
   "source": [
    "display_images(test_imgs)"
   ]
  }
 ],
 "metadata": {
  "kernelspec": {
   "display_name": "base",
   "language": "python",
   "name": "python3"
  },
  "language_info": {
   "codemirror_mode": {
    "name": "ipython",
    "version": 3
   },
   "file_extension": ".py",
   "mimetype": "text/x-python",
   "name": "python",
   "nbconvert_exporter": "python",
   "pygments_lexer": "ipython3",
   "version": "3.12.2"
  }
 },
 "nbformat": 4,
 "nbformat_minor": 2
}

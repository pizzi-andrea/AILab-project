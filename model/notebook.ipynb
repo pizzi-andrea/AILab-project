{
 "cells": [
  {
   "cell_type": "code",
   "execution_count": null,
   "metadata": {},
   "outputs": [],
   "source": [
    "# show some images and labels\n",
    "\n",
    "# import all dependecies form get and show the images\n"
   ]
  },
  {
   "cell_type": "code",
   "execution_count": null,
   "metadata": {},
   "outputs": [],
   "source": [
    "# 1. Take in a Dataset as well as a list of class names\n",
    "import matplotlib.pyplot as plt\n",
    "def display_images(images:list):\n",
    "    \n",
    "    # 5. Setup plot\n",
    "    plt.figure(figsize=(16, 8))\n",
    "\n",
    "    # 6. Loop through samples and display random samples \n",
    "    for i, (targ_image, targ_label) in enumerate(images):\n",
    "        \n",
    "\n",
    "        # 7. Adjust image tensor shape for plotting: [color_channels, height, width] -> [color_channels, height, width]\n",
    "        targ_image_adjust = targ_image.permute(1, 2, 0)\n",
    "\n",
    "        # Plot adjusted samples\n",
    "        plt.subplot(1, len(images), i+1)\n",
    "        plt.imshow(targ_image_adjust)\n",
    "        plt.axis(\"off\")\n",
    "        if targ_label:\n",
    "            title = f\"class: {targ_label}\"\n",
    "\n",
    "        plt.title(title)\n",
    "    "
   ]
  },
  {
   "cell_type": "code",
   "execution_count": null,
   "metadata": {},
   "outputs": [],
   "source": [
    "from torchvision.transforms import v2\n",
    "from torchvision.transforms import InterpolationMode\n",
    "import torch\n",
    "\n",
    "seq = v2.Compose([\n",
    "    v2.ToDtype(torch.float32, scale=True),\n",
    "    v2.Resize(48, interpolation=InterpolationMode.NEAREST_EXACT),\n",
    "    v2.RandomAutocontrast(p=1.0),\n",
    "\n",
    "    \n",
    "])"
   ]
  },
  {
   "cell_type": "code",
   "execution_count": null,
   "metadata": {},
   "outputs": [],
   "source": [
    "# get five images with it's label from datasets\n",
    "from GTSRB_Dataset import GTSRB_Dataset as Dataset\n",
    "from __global__ import *\n",
    "dataset_train = Dataset(labels_path=LABELS_PATH_TRAIN, imgs_dir=IMGS_PATH_TRAIN, transform=seq)\n",
    "dataset_test = dataset = Dataset(labels_path=LABELS_PATH_TEST, imgs_dir=IMGS_PATH_TEST, transform=seq)\n",
    "train_imgs = [dataset_train.__getitem__(index + 150) for index in range(10)]\n",
    "test_imgs =  [dataset_test.__getitem__(index) for index in range(10)]"
   ]
  },
  {
   "cell_type": "code",
   "execution_count": null,
   "metadata": {},
   "outputs": [],
   "source": [
    "display_images(train_imgs)"
   ]
  },
  {
   "cell_type": "code",
   "execution_count": null,
   "metadata": {},
   "outputs": [],
   "source": [
    "display_images(test_imgs)"
   ]
  },
  {
   "cell_type": "code",
   "execution_count": null,
   "metadata": {},
   "outputs": [],
   "source": [
    "seq = v2.Compose([\n",
    "    v2.ToDtype(torch.float32, scale=True)\n",
    "])"
   ]
  },
  {
   "cell_type": "code",
   "execution_count": null,
   "metadata": {},
   "outputs": [],
   "source": [
    "# get five images with it's label from datasets\n",
    "from GTSDB_Dataset import GTSDB_Dataset as Dataset\n",
    "from __global__ import *\n",
    "dataset_train = Dataset(IMGS_PATH_TRAIN_GTSDB,LABELS_PATH_TRAIN_GTSDB, transform=seq)\n",
    "img, t, _ = dataset_train.__getitem__(127)\n"
   ]
  },
  {
   "cell_type": "code",
   "execution_count": null,
   "metadata": {},
   "outputs": [],
   "source": [
    "from numpy import int32\n",
    "\n",
    "\n",
    "points = t"
   ]
  },
  {
   "cell_type": "code",
   "execution_count": null,
   "metadata": {},
   "outputs": [],
   "source": [
    "import cv2 as cv \n",
    "\n",
    "for p in points:\n",
    "    p = p.numpy()\n",
    "    p = p.astype(dtype=int32)\n",
    "    img  = cv.rectangle(img, (p[0], p[1]), (p[2], p[3]), (0, 255, 0), 1)\n",
    "\n",
    "cv.imshow('test', img)\n",
    "cv.waitKey(0)\n"
   ]
  }
 ],
 "metadata": {
  "kernelspec": {
   "display_name": "base",
   "language": "python",
   "name": "python3"
  },
  "language_info": {
   "codemirror_mode": {
    "name": "ipython",
    "version": 3
   },
   "file_extension": ".py",
   "mimetype": "text/x-python",
   "name": "python",
   "nbconvert_exporter": "python",
   "pygments_lexer": "ipython3",
   "version": "3.12.2"
  }
 },
 "nbformat": 4,
 "nbformat_minor": 2
}
